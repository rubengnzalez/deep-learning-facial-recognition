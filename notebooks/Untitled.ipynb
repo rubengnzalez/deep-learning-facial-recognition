{
 "cells": [
  {
   "cell_type": "code",
   "execution_count": 1,
   "metadata": {},
   "outputs": [],
   "source": [
    "from tensorflow.keras.preprocessing.image import ImageDataGenerator\n",
    "from tensorflow.keras import Sequential\n",
    "from tensorflow.keras.layers import Conv2D, MaxPool2D, Dropout, Flatten, Dense, Activation"
   ]
  },
  {
   "cell_type": "code",
   "execution_count": 2,
   "metadata": {},
   "outputs": [],
   "source": [
    "import tensorflow as tf\n",
    "physical_devices = tf.config.experimental.list_physical_devices('GPU')\n",
    "tf.config.experimental.set_memory_growth(physical_devices[0], True)"
   ]
  },
  {
   "cell_type": "code",
   "execution_count": 3,
   "metadata": {},
   "outputs": [],
   "source": [
    "training_datagen = ImageDataGenerator(rescale=1./255,\n",
    "                                   rotation_range=0.2,\n",
    "                                   shear_range=0.05,\n",
    "                                   zoom_range=[0.95, 1.2],\n",
    "                                   horizontal_flip=True, )\n",
    "test_datagen = ImageDataGenerator(rescale=1./255)"
   ]
  },
  {
   "cell_type": "code",
   "execution_count": 4,
   "metadata": {},
   "outputs": [
    {
     "name": "stdout",
     "output_type": "stream",
     "text": [
      "Found 18966 images belonging to 6 classes.\n",
      "Found 4742 images belonging to 6 classes.\n"
     ]
    }
   ],
   "source": [
    "training_path = '/home/ruben/workspace/tfg/deep-learning-facial-recognition/data/age/training'\n",
    "test_path = '/home/ruben/workspace/tfg/deep-learning-facial-recognition/data/age/test'\n",
    "\n",
    "training_set = training_datagen.flow_from_directory(training_path,\n",
    "                                                 target_size=(64, 64),\n",
    "                                                 batch_size=32,\n",
    "                                                 class_mode='categorical',\n",
    "                                                 shuffle=True,\n",
    "                                                 seed=42)\n",
    "test_set = test_datagen.flow_from_directory(test_path,\n",
    "                                             target_size=(64, 64),\n",
    "                                             batch_size=32,\n",
    "                                             class_mode='categorical',\n",
    "                                             shuffle=True,\n",
    "                                             seed=42)"
   ]
  },
  {
   "cell_type": "code",
   "execution_count": 5,
   "metadata": {},
   "outputs": [],
   "source": [
    "age_classifier = Sequential()\n",
    "age_classifier.add(Conv2D(filters=32, kernel_size=(3, 3), input_shape=(64, 64, 3), activation='relu'))\n",
    "age_classifier.add(MaxPool2D(pool_size=(2, 2)))\n",
    "age_classifier.add(Flatten())\n",
    "age_classifier.add(Dense(units=128, activation='relu'))\n",
    "# TODO: Think about using Dropout...\n",
    "age_classifier.add(Dense(units=6, activation='softmax'))"
   ]
  },
  {
   "cell_type": "code",
   "execution_count": 6,
   "metadata": {},
   "outputs": [],
   "source": [
    "age_classifier.compile(optimizer='adam', loss='categorical_crossentropy', metrics=['accuracy'])"
   ]
  },
  {
   "cell_type": "code",
   "execution_count": 7,
   "metadata": {},
   "outputs": [
    {
     "name": "stdout",
     "output_type": "stream",
     "text": [
      "Epoch 1/25\n",
      "592/592 [==============================] - 40s 68ms/step - loss: 1.2500 - accuracy: 0.4959 - val_loss: 1.0011 - val_accuracy: 0.5701\n",
      "Epoch 2/25\n",
      "592/592 [==============================] - 39s 66ms/step - loss: 0.9855 - accuracy: 0.5852 - val_loss: 1.0253 - val_accuracy: 0.5557\n",
      "Epoch 3/25\n",
      "592/592 [==============================] - 40s 68ms/step - loss: 0.9254 - accuracy: 0.6067 - val_loss: 0.9454 - val_accuracy: 0.5893\n",
      "Epoch 4/25\n",
      "592/592 [==============================] - 40s 68ms/step - loss: 0.8998 - accuracy: 0.6190 - val_loss: 0.8933 - val_accuracy: 0.6117\n",
      "Epoch 5/25\n",
      "592/592 [==============================] - 40s 68ms/step - loss: 0.8698 - accuracy: 0.6280 - val_loss: 0.9030 - val_accuracy: 0.6058\n",
      "Epoch 6/25\n",
      "592/592 [==============================] - 40s 68ms/step - loss: 0.8497 - accuracy: 0.6347 - val_loss: 0.8795 - val_accuracy: 0.6176\n",
      "Epoch 7/25\n",
      "592/592 [==============================] - 41s 69ms/step - loss: 0.8342 - accuracy: 0.6444 - val_loss: 0.8657 - val_accuracy: 0.6292\n",
      "Epoch 8/25\n",
      "592/592 [==============================] - 41s 69ms/step - loss: 0.8159 - accuracy: 0.6489 - val_loss: 0.8856 - val_accuracy: 0.6035\n",
      "Epoch 9/25\n",
      "592/592 [==============================] - 42s 71ms/step - loss: 0.8036 - accuracy: 0.6525 - val_loss: 0.8536 - val_accuracy: 0.6305\n",
      "Epoch 10/25\n",
      "592/592 [==============================] - 41s 69ms/step - loss: 0.7868 - accuracy: 0.6607 - val_loss: 0.8524 - val_accuracy: 0.6261\n",
      "Epoch 11/25\n",
      "592/592 [==============================] - 40s 67ms/step - loss: 0.7746 - accuracy: 0.6682 - val_loss: 0.8792 - val_accuracy: 0.6182\n",
      "Epoch 12/25\n",
      "592/592 [==============================] - 39s 67ms/step - loss: 0.7591 - accuracy: 0.6725 - val_loss: 0.8713 - val_accuracy: 0.6263\n",
      "Epoch 13/25\n",
      "592/592 [==============================] - 40s 67ms/step - loss: 0.7499 - accuracy: 0.6749 - val_loss: 0.8709 - val_accuracy: 0.6280\n",
      "Epoch 14/25\n",
      "592/592 [==============================] - 40s 68ms/step - loss: 0.7441 - accuracy: 0.6779 - val_loss: 0.8524 - val_accuracy: 0.6328\n",
      "Epoch 15/25\n",
      "592/592 [==============================] - 42s 71ms/step - loss: 0.7295 - accuracy: 0.6861 - val_loss: 0.8537 - val_accuracy: 0.6223\n",
      "Epoch 16/25\n",
      "592/592 [==============================] - 41s 70ms/step - loss: 0.7198 - accuracy: 0.6933 - val_loss: 0.8344 - val_accuracy: 0.6313\n",
      "Epoch 17/25\n",
      "592/592 [==============================] - 40s 67ms/step - loss: 0.7112 - accuracy: 0.6888 - val_loss: 0.8486 - val_accuracy: 0.6214\n",
      "Epoch 18/25\n",
      "592/592 [==============================] - 42s 71ms/step - loss: 0.7024 - accuracy: 0.6962 - val_loss: 0.8361 - val_accuracy: 0.6383\n",
      "Epoch 19/25\n",
      "592/592 [==============================] - 42s 71ms/step - loss: 0.6928 - accuracy: 0.6991 - val_loss: 0.8321 - val_accuracy: 0.6410\n",
      "Epoch 20/25\n",
      "592/592 [==============================] - 42s 71ms/step - loss: 0.6749 - accuracy: 0.7094 - val_loss: 0.8426 - val_accuracy: 0.6332\n",
      "Epoch 21/25\n",
      "592/592 [==============================] - 43s 73ms/step - loss: 0.6694 - accuracy: 0.7121 - val_loss: 0.8541 - val_accuracy: 0.6391\n",
      "Epoch 22/25\n",
      "592/592 [==============================] - 44s 75ms/step - loss: 0.6597 - accuracy: 0.7163 - val_loss: 0.9019 - val_accuracy: 0.6309\n",
      "Epoch 23/25\n",
      "592/592 [==============================] - 43s 73ms/step - loss: 0.6499 - accuracy: 0.7197 - val_loss: 0.8702 - val_accuracy: 0.6425\n",
      "Epoch 24/25\n",
      "592/592 [==============================] - 43s 73ms/step - loss: 0.6551 - accuracy: 0.7213 - val_loss: 0.8372 - val_accuracy: 0.6539\n",
      "Epoch 25/25\n",
      "592/592 [==============================] - 42s 72ms/step - loss: 0.6349 - accuracy: 0.7278 - val_loss: 0.8801 - val_accuracy: 0.6356\n"
     ]
    },
    {
     "data": {
      "text/plain": [
       "<tensorflow.python.keras.callbacks.History at 0x7f9f133b6b10>"
      ]
     },
     "execution_count": 7,
     "metadata": {},
     "output_type": "execute_result"
    }
   ],
   "source": [
    "age_classifier.fit(training_set,\n",
    "                   steps_per_epoch=(18966//32),\n",
    "                   epochs=25,\n",
    "                   validation_data=test_set,\n",
    "                   validation_steps=(4742//32))"
   ]
  },
  {
   "cell_type": "code",
   "execution_count": null,
   "metadata": {},
   "outputs": [],
   "source": []
  }
 ],
 "metadata": {
  "kernelspec": {
   "display_name": "Python 3",
   "language": "python",
   "name": "python3"
  },
  "language_info": {
   "codemirror_mode": {
    "name": "ipython",
    "version": 3
   },
   "file_extension": ".py",
   "mimetype": "text/x-python",
   "name": "python",
   "nbconvert_exporter": "python",
   "pygments_lexer": "ipython3",
   "version": "3.7.6"
  }
 },
 "nbformat": 4,
 "nbformat_minor": 4
}
